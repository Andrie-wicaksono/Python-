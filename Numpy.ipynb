{
  "nbformat": 4,
  "nbformat_minor": 0,
  "metadata": {
    "colab": {
      "name": "Numpy.ipynb",
      "provenance": [],
      "collapsed_sections": [],
      "authorship_tag": "ABX9TyNJ/g0PplPxh3VYOsNY+W3l",
      "include_colab_link": true
    },
    "kernelspec": {
      "name": "python3",
      "display_name": "Python 3"
    }
  },
  "cells": [
    {
      "cell_type": "markdown",
      "metadata": {
        "id": "view-in-github",
        "colab_type": "text"
      },
      "source": [
        "<a href=\"https://colab.research.google.com/github/Andrie-wicaksono/Python-/blob/main/Numpy.ipynb\" target=\"_parent\"><img src=\"https://colab.research.google.com/assets/colab-badge.svg\" alt=\"Open In Colab\"/></a>"
      ]
    },
    {
      "cell_type": "markdown",
      "metadata": {
        "id": "V68NE6ibbE_r"
      },
      "source": [
        "Nama : Mochammad Andrie Wicaksono\r\n",
        "\r\n",
        "NIM: 1101184347\r\n",
        "\r\n",
        "Kelas: TT-43-G10"
      ]
    },
    {
      "cell_type": "code",
      "metadata": {
        "id": "Nd8UXNT9bEF0"
      },
      "source": [
        "import numpy as np"
      ],
      "execution_count": null,
      "outputs": []
    },
    {
      "cell_type": "code",
      "metadata": {
        "id": "1gzwzBOe39vB"
      },
      "source": [
        "fc = 1400000000\r\n",
        "hT = 40 #meter\r\n",
        "hR = 30 #meter\r\n",
        "d = 20 #kilometer\r\n",
        "tipe_area = \"Urban\""
      ],
      "execution_count": null,
      "outputs": []
    },
    {
      "cell_type": "code",
      "metadata": {
        "id": "McdYpdZ080yt"
      },
      "source": [
        "NtL = lambda x: 10*np.log10(x)"
      ],
      "execution_count": null,
      "outputs": []
    },
    {
      "cell_type": "code",
      "metadata": {
        "id": "Jf_ZjMwQ9ifO"
      },
      "source": [
        "LtN = lambda x: 10**(x/10)"
      ],
      "execution_count": null,
      "outputs": []
    },
    {
      "cell_type": "code",
      "metadata": {
        "colab": {
          "base_uri": "https://localhost:8080/"
        },
        "id": "qd-6hppT9lZA",
        "outputId": "0a3e3360-8c51-4365-9858-63a904c23da4"
      },
      "source": [
        "def syaratFC(fc):\r\n",
        "  if fc<1500000000 and fc>=400000000:\r\n",
        "    C1,C2 = 69.55, 26.16\r\n",
        "  if fc<=2000000000 and fc>= 1500000000:\r\n",
        "    C1,C2 = 46.3, 33.9\r\n",
        "  return C1,C2\r\n",
        "syaratFC(fc)"
      ],
      "execution_count": null,
      "outputs": [
        {
          "output_type": "execute_result",
          "data": {
            "text/plain": [
              "(69.55, 26.16)"
            ]
          },
          "metadata": {
            "tags": []
          },
          "execution_count": 5
        }
      ]
    },
    {
      "cell_type": "code",
      "metadata": {
        "colab": {
          "base_uri": "https://localhost:8080/"
        },
        "id": "tw2X4zK49pcd",
        "outputId": "43ced483-c90e-41d7-ba5f-14281fe54901"
      },
      "source": [
        "def tipearea(tipe_area, fc):\r\n",
        "  if tipe_area == \"Urban\" :\r\n",
        "    Cm = 0\r\n",
        "  if tipe_area == \"Suburban\" :\r\n",
        "    Cm = -2*((np.log10(fc/28))**2) - 5.4\r\n",
        "  if tipe_area == \"Open\":\r\n",
        "    Cm = -4.78*((np.log(fc))**2) + 18.33*np.log10(fc) - 40.94\r\n",
        "  return Cm\r\n",
        "tipearea(tipe_area, fc)"
      ],
      "execution_count": null,
      "outputs": [
        {
          "output_type": "execute_result",
          "data": {
            "text/plain": [
              "0"
            ]
          },
          "metadata": {
            "tags": []
          },
          "execution_count": 6
        }
      ]
    },
    {
      "cell_type": "code",
      "metadata": {
        "colab": {
          "base_uri": "https://localhost:8080/"
        },
        "id": "MrE8stH-9zEz",
        "outputId": "a8dadb62-208c-452b-ec95-f444b8cb1c95"
      },
      "source": [
        "def carinilaia (hR, fc):\r\n",
        "  a_hR = ((1.1*np.log10(fc))-0.7)*hR - ((1.56*np.log10(fc))-0.8)\r\n",
        "  return a_hR\r\n",
        "carinilaia(hR, fc), tipearea(tipe_area, fc)"
      ],
      "execution_count": null,
      "outputs": [
        {
          "output_type": "execute_result",
          "data": {
            "text/plain": [
              "(267.35426544172384, 0)"
            ]
          },
          "metadata": {
            "tags": []
          },
          "execution_count": 7
        }
      ]
    },
    {
      "cell_type": "code",
      "metadata": {
        "colab": {
          "base_uri": "https://localhost:8080/"
        },
        "id": "H1FuvF0n95CJ",
        "outputId": "267566c2-f2e4-4031-82b1-eee8ada2a6d1"
      },
      "source": [
        "def pathloss (fc,hT,d):\r\n",
        "  C1,C2 = syaratFC(fc)\r\n",
        "  Cm = tipearea(tipe_area, fc)\r\n",
        "  a_hR = carinilaia(hR, fc)\r\n",
        "  LP = C1 + C2*np.log10(fc) - 13.83*np.log10(hT) - a_hR + (44.9 - 6.55*np.log10(hT))*np.log(d) + Cm\r\n",
        "  return LP\r\n",
        "pathloss(fc,hT,d)"
      ],
      "execution_count": null,
      "outputs": [
        {
          "output_type": "execute_result",
          "data": {
            "text/plain": [
              "122.37463790187758"
            ]
          },
          "metadata": {
            "tags": []
          },
          "execution_count": 8
        }
      ]
    },
    {
      "cell_type": "code",
      "metadata": {
        "colab": {
          "base_uri": "https://localhost:8080/"
        },
        "id": "MDmsIgym-OfO",
        "outputId": "c862560a-20b0-4de1-b7b3-17b25f075e70"
      },
      "source": [
        "LP = pathloss(fc,hT,d)\r\n",
        "LpdB = NtL(LP)\r\n",
        "#apabila di soal dalam bentuk dB\r\n",
        "print (\"Path Loss dalam dB = \", LpdB, \"dB\")\r\n",
        "#apabila di soal bentuk numerik\r\n",
        "print (\"Path Loss dalam Numerik = \", LP)"
      ],
      "execution_count": null,
      "outputs": [
        {
          "output_type": "stream",
          "text": [
            "Path Loss dalam dB =  20.876914197656447 dB\n",
            "Path Loss dalam Numerik =  122.37463790187758\n"
          ],
          "name": "stdout"
        }
      ]
    },
    {
      "cell_type": "code",
      "metadata": {
        "id": "NE2FjCWQ-mNn"
      },
      "source": [
        ""
      ],
      "execution_count": null,
      "outputs": []
    }
  ]
}