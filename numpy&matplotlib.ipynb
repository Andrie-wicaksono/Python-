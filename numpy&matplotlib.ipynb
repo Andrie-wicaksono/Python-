{
  "nbformat": 4,
  "nbformat_minor": 0,
  "metadata": {
    "colab": {
      "name": "numpy&matplotlib.ipynb",
      "provenance": [],
      "collapsed_sections": [],
      "authorship_tag": "ABX9TyNfmWax0FjTnhMtoO2Lh+4U",
      "include_colab_link": true
    },
    "kernelspec": {
      "name": "python3",
      "display_name": "Python 3"
    }
  },
  "cells": [
    {
      "cell_type": "markdown",
      "metadata": {
        "id": "view-in-github",
        "colab_type": "text"
      },
      "source": [
        "<a href=\"https://colab.research.google.com/github/Andrie-wicaksono/Python-/blob/main/numpy%26matplotlib.ipynb\" target=\"_parent\"><img src=\"https://colab.research.google.com/assets/colab-badge.svg\" alt=\"Open In Colab\"/></a>"
      ]
    },
    {
      "cell_type": "markdown",
      "metadata": {
        "id": "hNo0uqDj3lKd"
      },
      "source": [
        "Nama : Mochammad Andrie Wicaksono\r\n",
        "\r\n",
        "NIM: 1101184347\r\n",
        "\r\n",
        "Kelas: TT-43-G10"
      ]
    },
    {
      "cell_type": "code",
      "metadata": {
        "id": "wepBn1G33weF"
      },
      "source": [
        "import numpy as np\r\n",
        "import matplotlib.pyplot as plt"
      ],
      "execution_count": null,
      "outputs": []
    },
    {
      "cell_type": "code",
      "metadata": {
        "id": "P4MQRbya3y1M"
      },
      "source": [
        "def cos(frek,tipe,ht,hr,d):\r\n",
        "  #frek = frekuensi (MHz)\r\n",
        "  #tipe = urban, suburban, open\r\n",
        "  #ht = tinggi tower (meter)\r\n",
        "  #hr = tinggi user (meter)\r\n",
        "  #d = jarak (meter)\r\n",
        "  if frek in range(150,1501):\r\n",
        "    Ca=69.55\r\n",
        "    Cb=26.16\r\n",
        "  elif frek in range(1501,2001):\r\n",
        "    Ca=46.3\r\n",
        "    Cb=33.9   \r\n",
        "  if tipe=='urban' :\r\n",
        "    Cm=0\r\n",
        "  elif tipe=='suburban' :\r\n",
        "    Cm= -2*((np.log10((frek/28)**2))-5.4)\r\n",
        "  elif tipe=='open' :\r\n",
        "    Cm= -4.78*(np.log10(frek))+18.33*(np.log10(frek))-40.94\r\n",
        "  else :\r\n",
        "    Cm='tipe salah'\r\n",
        "    \r\n",
        "  ahr = (1.1*np.log10(frek)-0.7)*hr-(1.56*np.log10(frek)-1.8)\r\n",
        "  Lp = Ca+(Cb*np.log10(frek))-(13.83*np.log(ht))-ahr+((44.9-6.55*np.log10(ht))*np.log10(d))-Cm\r\n",
        "    \r\n",
        "  return Lp"
      ],
      "execution_count": null,
      "outputs": []
    },
    {
      "cell_type": "markdown",
      "metadata": {
        "id": "ai358EGf34jM"
      },
      "source": [
        "# Urban"
      ]
    },
    {
      "cell_type": "code",
      "metadata": {
        "id": "F8BGZdCj4FCM"
      },
      "source": [
        "f=1800 #MHz\r\n",
        "loc='urban'\r\n",
        "tower=80 #m\r\n",
        "user=1.5 #m\r\n",
        "dmin=200 #m\r\n",
        "dmax=700 #m\r\n",
        "N=200 #titik\r\n",
        "d=np.random.randint(dmin,dmax,N)"
      ],
      "execution_count": null,
      "outputs": []
    },
    {
      "cell_type": "code",
      "metadata": {
        "id": "8Nr-eUW64IDu"
      },
      "source": [
        "LpUrban= cos(f,loc,tower,user,d)"
      ],
      "execution_count": null,
      "outputs": []
    },
    {
      "cell_type": "code",
      "metadata": {
        "id": "NGO-8n4Z4Lsy"
      },
      "source": [
        "d_sort_urban = d[np.argsort(d)]\r\n",
        "Urban_sort = LpUrban[np.argsort(d)]"
      ],
      "execution_count": null,
      "outputs": []
    },
    {
      "cell_type": "markdown",
      "metadata": {
        "id": "XvhwXyLE4RbN"
      },
      "source": [
        "# Open"
      ]
    },
    {
      "cell_type": "code",
      "metadata": {
        "id": "tG3k78QU4U6W"
      },
      "source": [
        "loc = 'open'\r\n",
        "LpOpen = cos(f,loc,tower,user,d)\r\n",
        "d_sort_open = d[np.argsort(d)]\r\n",
        "Open_sort = LpOpen[np.argsort(d)]"
      ],
      "execution_count": null,
      "outputs": []
    },
    {
      "cell_type": "markdown",
      "metadata": {
        "id": "P7HYqE6m4bCU"
      },
      "source": [
        "# SubUrban"
      ]
    },
    {
      "cell_type": "code",
      "metadata": {
        "id": "9dIxEvjE4X03"
      },
      "source": [
        "loc = 'suburban'\r\n",
        "LpSubUrban = cos(f,loc,tower,user,d)\r\n",
        "d_Sort_SubUrban = d[np.argsort(d)]\r\n",
        "Sub_Urban_Sort = LpSubUrban[np.argsort(d)]"
      ],
      "execution_count": null,
      "outputs": []
    },
    {
      "cell_type": "code",
      "metadata": {
        "colab": {
          "base_uri": "https://localhost:8080/",
          "height": 295
        },
        "id": "zOtU57ue4gkl",
        "outputId": "1c76e3dc-21b7-4bc9-8c75-dda9f7a30d8f"
      },
      "source": [
        "plt.figure()\r\n",
        "plt.plot(d_sort_urban,Urban_sort,'m', label='Urban')\r\n",
        "plt.plot(d_sort_open,Open_sort,'c', label='Open')\r\n",
        "plt.plot(d_Sort_SubUrban,Sub_Urban_Sort,'k', label='SubUrban')\r\n",
        "plt.legend()\r\n",
        "plt.title(\"Frekuensi 1800 MHz\")\r\n",
        "plt.xlabel(\"Jarak (m)\")\r\n",
        "plt.ylabel(\"Path Loss (dB)\")\r\n",
        "plt.show()"
      ],
      "execution_count": null,
      "outputs": [
        {
          "output_type": "display_data",
          "data": {
            "image/png": "[encoded data removed]",
            "text/plain": [
              "<Figure size 432x288 with 1 Axes>"
            ]
          },
          "metadata": {
            "tags": [],
            "needs_background": "light"
          }
        }
      ]
    },
    {
      "cell_type": "code",
      "metadata": {
        "id": "b9AYQevk4jgO"
      },
      "source": [
        "f= 700 #MHz\r\n",
        "loc='urban'\r\n",
        "tower=80 #m\r\n",
        "user=1.5 #m\r\n",
        "dmin=200 #m\r\n",
        "dmax=700 #m\r\n",
        "N=200 #titik\r\n",
        "d=np.random.randint(dmin,dmax,N)\r\n",
        "LpA = cos(f,loc,tower,user,d)\r\n",
        "sortA = d[np.argsort(d)]\r\n",
        "urban1= LpA[np.argsort(d)]\r\n",
        "\r\n",
        "f=900\r\n",
        "LpB= cos(f,loc,tower,user,d)\r\n",
        "sortB = d[np.argsort(d)]\r\n",
        "urban2 = LpB[np.argsort(d)]\r\n",
        "\r\n",
        "f=1800\r\n",
        "LpC = cos(f,loc,tower,user,d)\r\n",
        "sortC= d[np.argsort(d)]\r\n",
        "urban3 = LpC[np.argsort(d)]"
      ],
      "execution_count": null,
      "outputs": []
    },
    {
      "cell_type": "code",
      "metadata": {
        "colab": {
          "base_uri": "https://localhost:8080/",
          "height": 295
        },
        "id": "n2glelTa4-Bj",
        "outputId": "521e54dd-cf4c-4645-8707-795edc6384e6"
      },
      "source": [
        "plt.figure()\r\n",
        "plt.plot(sortA,urban1,'g', label=\"700 MHz\")\r\n",
        "plt.plot(sortB,urban2,'b', label = \"900 MHz\")\r\n",
        "plt.plot(sortC,urban3,\"r\", label=\"1800 MHz\")\r\n",
        "plt.legend()\r\n",
        "plt.title(\"Urban\")\r\n",
        "plt.xlabel(\"Jarak (m)\")\r\n",
        "plt.ylabel(\"Path Loss (dB)\")\r\n",
        "plt.show()"
      ],
      "execution_count": null,
      "outputs": [
        {
          "output_type": "display_data",
          "data": {
            "image/png": "[encoded data removed]",
            "text/plain": [
              "<Figure size 432x288 with 1 Axes>"
            ]
          },
          "metadata": {
            "tags": [],
            "needs_background": "light"
          }
        }
      ]
    },
    {
      "cell_type": "code",
      "metadata": {
        "id": "9VpR3G4S5Tof"
      },
      "source": [
        ""
      ],
      "execution_count": null,
      "outputs": []
    }
  ]
}