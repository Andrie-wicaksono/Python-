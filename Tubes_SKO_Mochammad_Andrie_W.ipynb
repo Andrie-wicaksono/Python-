{
  "nbformat": 4,
  "nbformat_minor": 0,
  "metadata": {
    "colab": {
      "name": "Tubes SKO_Mochammad Andrie W.ipynb",
      "provenance": [],
      "collapsed_sections": [],
      "authorship_tag": "ABX9TyMrcaz0k1guqOjHTU6YwoCl",
      "include_colab_link": true
    },
    "kernelspec": {
      "name": "python3",
      "display_name": "Python 3"
    }
  },
  "cells": [
    {
      "cell_type": "markdown",
      "metadata": {
        "id": "view-in-github",
        "colab_type": "text"
      },
      "source": [
        "<a href=\"https://colab.research.google.com/github/Andrie-wicaksono/Python-/blob/main/Tubes_SKO_Mochammad_Andrie_W.ipynb\" target=\"_parent\"><img src=\"https://colab.research.google.com/assets/colab-badge.svg\" alt=\"Open In Colab\"/></a>"
      ]
    },
    {
      "cell_type": "markdown",
      "metadata": {
        "id": "S0p5r2MwDako"
      },
      "source": [
        "Nama : Mochammad Andrie Wicaksono\r\n",
        "\r\n",
        "Kelas : TT-42-07\r\n",
        "\r\n",
        "NIM : 1101184347\r\n",
        "\r\n",
        "Tugas Besar SKO mengenai perencangan FTTB dari sentral menuju ODC menuju ONU menuju ODP kemudian ke roset yang berada disetiap kamar. Gedung berisi 40 lantai dengan jumlah kamar per lantainya 20. Menggunakan fiber jenis G625D dengan panjang 1490 nm dan redaman 0.28 dB"
      ]
    },
    {
      "cell_type": "code",
      "metadata": {
        "id": "Vg4WomHfFqwA"
      },
      "source": [
        "import numpy as np\r\n",
        "import matplotlib.pyplot as plt\r\n",
        "import math as m"
      ],
      "execution_count": 28,
      "outputs": []
    },
    {
      "cell_type": "markdown",
      "metadata": {
        "id": "jOJaLbqiGNYl"
      },
      "source": [
        "konversi Numerik to Logaritmik dan Logaritmik to Numerik"
      ]
    },
    {
      "cell_type": "code",
      "metadata": {
        "id": "uV_n427oF4iC"
      },
      "source": [
        "NtL = lambda x : 10 * np.log10(x)\r\n",
        "LtN = lambda x : 10**(x/10)"
      ],
      "execution_count": 29,
      "outputs": []
    },
    {
      "cell_type": "markdown",
      "metadata": {
        "id": "sc6zOJnSJGS4"
      },
      "source": [
        "Parameter"
      ]
    },
    {
      "cell_type": "code",
      "metadata": {
        "id": "tJpx_ggDJbYh"
      },
      "source": [
        "#tinggi setiap lantai 5m\r\n",
        "#jarak sental ke ONU 17 km\r\n",
        "#jarak ONU ke roset >500m bisa didapatkan 5*33(lantai) = 165 m = 0.165 km\r\n",
        "\r\n",
        "d = np.arange(0.165,17.165,1) #jarak total (km)\r\n",
        "n_splicer = 8 #jumlah splicer\r\n",
        "l_splicer = 0.1 #loss splicer (dB)\r\n",
        "n_konektor = 6 #jumlah konektor\r\n",
        "l_konektor = 0.3 #loss konektor (dB)\r\n",
        "l_fiber = 0.28 #loss jenis fiber (dB)\r\n",
        "l_splitter = 16 + 19.5 #loss dari splitter\r\n",
        "SM = 6 #Safety Margin (dB)\r\n",
        "Pt = 3 #daya tx (dBm)\r\n",
        "\r\n",
        "\r\n",
        "R = 0.85 # Responsivitas (A/W)\r\n",
        "M = -0.3 #Tambahan daya sinyal APD (dB)\r\n",
        "q = 1.6*10**-19\r\n",
        "K = 1.38 * 10**-23 #Konstanta Boltzmann\r\n",
        "Temp= 290 #Kelvin\r\n",
        "B = 7 * 10**9 # Bandwith 7 Ghz \r\n",
        "Req = 50 # Resistensi Ekivalensi\r\n",
        "id = 60*10**-9 #Arus gelap(A)\r\n",
        "F = 1 #F(M), Faktor Gain\r\n"
      ],
      "execution_count": 30,
      "outputs": []
    },
    {
      "cell_type": "markdown",
      "metadata": {
        "id": "v7VBU1YGMmAu"
      },
      "source": [
        "Rumus Daya Terima"
      ]
    },
    {
      "cell_type": "code",
      "metadata": {
        "colab": {
          "base_uri": "https://localhost:8080/"
        },
        "id": "I8bc_YpvMNNa",
        "outputId": "f04b36d6-4336-46f9-e31c-fb0dfb773229"
      },
      "source": [
        "def P_receive():\r\n",
        "  hambatan_fiber = d * l_fiber\r\n",
        "  hambatan_splicer = n_splicer * l_splicer\r\n",
        "  hambatan_connector = n_konektor * l_konektor\r\n",
        "\r\n",
        "  alfa_total = hambatan_fiber + hambatan_splicer + hambatan_connector + l_splitter + SM\r\n",
        "  Pr = Pt - alfa_total\r\n",
        "  return Pr\r\n",
        "\r\n",
        "Pr = P_receive()\r\n",
        "print('Daya Terima = ', Pr) #logaritmik"
      ],
      "execution_count": 31,
      "outputs": [
        {
          "output_type": "stream",
          "text": [
            "Daya Terima =  [-41.1462 -41.4262 -41.7062 -41.9862 -42.2662 -42.5462 -42.8262 -43.1062\n",
            " -43.3862 -43.6662 -43.9462 -44.2262 -44.5062 -44.7862 -45.0662 -45.3462\n",
            " -45.6262]\n"
          ],
          "name": "stdout"
        }
      ]
    },
    {
      "cell_type": "markdown",
      "metadata": {
        "id": "-9-x63hmNk-t"
      },
      "source": [
        "Rumus Arus Primer"
      ]
    },
    {
      "cell_type": "code",
      "metadata": {
        "id": "vrGN44AwNnPz",
        "colab": {
          "base_uri": "https://localhost:8080/"
        },
        "outputId": "515fad59-8c89-494f-c9fe-ab22dbbf45c5"
      },
      "source": [
        "def arus_primer():\r\n",
        "  Prnum = LtN(Pr)\r\n",
        "  ip = R * Prnum\r\n",
        "  return ip\r\n",
        "ip = arus_primer()\r\n",
        "print('Arus Primer = ',ip,'Watt')\r\n"
      ],
      "execution_count": 32,
      "outputs": [
        {
          "output_type": "stream",
          "text": [
            "Arus Primer =  [6.52828229e-05 6.12066945e-05 5.73850713e-05 5.38020626e-05\n",
            " 5.04427698e-05 4.72932245e-05 4.43403305e-05 4.15718092e-05\n",
            " 3.89761489e-05 3.65425564e-05 3.42609125e-05 3.21217299e-05\n",
            " 3.01161135e-05 2.82357238e-05 2.64727419e-05 2.48198370e-05\n",
            " 2.32701362e-05] Watt\n"
          ],
          "name": "stdout"
        }
      ]
    },
    {
      "cell_type": "markdown",
      "metadata": {
        "id": "pNj_PouxNKGY"
      },
      "source": [
        "Signal Power"
      ]
    },
    {
      "cell_type": "code",
      "metadata": {
        "id": "Ty5wk2HOM4uc",
        "colab": {
          "base_uri": "https://localhost:8080/"
        },
        "outputId": "c6965f3e-23d8-451e-fbb9-fdc43abacbb7"
      },
      "source": [
        "def signal_power():\r\n",
        "  sigpow = (ip*M)**2\r\n",
        "  return sigpow\r\n",
        "signal = signal_power()\r\n",
        "print('Signal = ',signal, 'A')\r\n"
      ],
      "execution_count": 33,
      "outputs": [
        {
          "output_type": "stream",
          "text": [
            "Signal =  [3.83566227e-10 3.37163350e-10 2.96374177e-10 2.60519575e-10\n",
            " 2.29002572e-10 2.01298418e-10 1.76945842e-10 1.55539379e-10\n",
            " 1.36722616e-10 1.20182258e-10 1.05642911e-10 9.28624978e-11\n",
            " 8.16282265e-11 7.17530491e-11 6.30725458e-11 5.54421880e-11\n",
            " 4.87349316e-11] A\n"
          ],
          "name": "stdout"
        }
      ]
    },
    {
      "cell_type": "markdown",
      "metadata": {
        "id": "1A-W6x_e6uVj"
      },
      "source": [
        "Perhitungan Noise Power"
      ]
    },
    {
      "cell_type": "code",
      "metadata": {
        "colab": {
          "base_uri": "https://localhost:8080/"
        },
        "id": "UI03NVxp3eo2",
        "outputId": "bfdf5661-beee-4eac-e826-a736b41ba23b"
      },
      "source": [
        "def noise_power():\r\n",
        "  BDC = 2*q*id*B*(M**2)*F #Dark Current\r\n",
        "  SNC = 2*q*ip*B*(M**2)*F #Short Noise Current\r\n",
        "  NT =  (4*K*Temp*B)/Req #Derau Thermal\r\n",
        "  noise_rumus = BDC + SNC + NT\r\n",
        "  return noise_rumus\r\n",
        "noise = noise_power()\r\n",
        "print('Noise = ',noise,'A')"
      ],
      "execution_count": 34,
      "outputs": [
        {
          "output_type": "stream",
          "text": [
            "Noise =  [2.25429311e-12 2.25347137e-12 2.25270093e-12 2.25197859e-12\n",
            " 2.25130136e-12 2.25066641e-12 2.25007111e-12 2.24951297e-12\n",
            " 2.24898969e-12 2.24849908e-12 2.24803910e-12 2.24760784e-12\n",
            " 2.24720350e-12 2.24682442e-12 2.24646900e-12 2.24613578e-12\n",
            " 2.24582336e-12] A\n"
          ],
          "name": "stdout"
        }
      ]
    },
    {
      "cell_type": "markdown",
      "metadata": {
        "id": "pv5Mfz2i-a_S"
      },
      "source": [
        "Perhitungan SNR"
      ]
    },
    {
      "cell_type": "code",
      "metadata": {
        "colab": {
          "base_uri": "https://localhost:8080/"
        },
        "id": "TT4YV36e9fSs",
        "outputId": "c9502de6-f323-4f5e-df17-a4aeb93123c8"
      },
      "source": [
        "def snr():\r\n",
        "  snr = signal/noise\r\n",
        "  snr_dB = NtL(snr)\r\n",
        "  return snr_dB\r\n",
        "SNR = snr()\r\n",
        "print('SNR = ',SNR,'dBm')"
      ],
      "execution_count": 35,
      "outputs": [
        {
          "output_type": "stream",
          "text": [
            "SNR =  [22.30829977 21.74988317 21.19136823 20.63276103 20.07406727 19.51529231\n",
            " 18.95644118 18.39751859 17.83852897 17.27947648 16.72036501 16.16119823\n",
            " 15.60197957 15.04271226 14.48339931 13.92404356 13.36464767] dBm\n"
          ],
          "name": "stdout"
        }
      ]
    },
    {
      "cell_type": "markdown",
      "metadata": {
        "id": "8XiOx5uJAHwr"
      },
      "source": [
        "Perhitungan Q"
      ]
    },
    {
      "cell_type": "code",
      "metadata": {
        "colab": {
          "base_uri": "https://localhost:8080/"
        },
        "id": "wlOt7Mr0_bxM",
        "outputId": "c2aa97c6-b2f9-4fe3-f6aa-0656707b4015"
      },
      "source": [
        "def Q_rumus():\r\n",
        "  Q_rum = 0.5*(10**(SNR/20))\r\n",
        "  return Q_rum\r\n",
        "Q = Q_rumus()\r\n",
        "print(Q)"
      ],
      "execution_count": 36,
      "outputs": [
        {
          "output_type": "stream",
          "text": [
            "[6.52206305 6.11595333 5.73506594 5.37784222 5.04281886 4.72862224\n",
            " 4.43396299 4.15763092 3.89849025 3.65547508 3.42758517 3.21388192\n",
            " 3.01348465 2.82556705 2.64935387 2.48411777 2.32917644]\n"
          ],
          "name": "stdout"
        }
      ]
    },
    {
      "cell_type": "markdown",
      "metadata": {
        "id": "jkYabf4hA6gW"
      },
      "source": [
        "Perhitungan BER"
      ]
    },
    {
      "cell_type": "code",
      "metadata": {
        "colab": {
          "base_uri": "https://localhost:8080/"
        },
        "id": "mSkLXD9ZArXz",
        "outputId": "c79f2ddd-a00c-4d8c-ddfa-57545ee3cfd9"
      },
      "source": [
        "kali_list = []\r\n",
        "def BER_rumus():\r\n",
        "  akr = (m.sqrt(2*m.pi) * Q)\r\n",
        "  #exp = (m.exp(Q/2)**2)/Q\r\n",
        "  #B= akr * exp\r\n",
        "  for i in range(len(Q)):\r\n",
        "    kali = m.exp(-(Q[i]/2)**2)\r\n",
        "    kali_list.append(kali)\r\n",
        "  B = (1/akr) * (kali_list)\r\n",
        "  return B\r\n",
        "B = BER_rumus()\r\n",
        "print(B)"
      ],
      "execution_count": 37,
      "outputs": [
        {
          "output_type": "stream",
          "text": [
            "[1.47263702e-06 5.66581120e-06 1.86757788e-05 5.37308908e-05\n",
            " 1.37153577e-04 3.15125536e-04 6.60020782e-04 1.27430076e-03\n",
            " 2.29027253e-03 3.86501729e-03 6.17109161e-03 9.38467441e-03\n",
            " 1.36733300e-02 1.91854157e-02 2.60425563e-02 3.43358120e-02\n",
            " 4.41254310e-02]\n"
          ],
          "name": "stdout"
        }
      ]
    },
    {
      "cell_type": "markdown",
      "metadata": {
        "id": "gBgDtn-PBG7F"
      },
      "source": [
        "GRAFIK"
      ]
    },
    {
      "cell_type": "code",
      "metadata": {
        "colab": {
          "base_uri": "https://localhost:8080/",
          "height": 1000
        },
        "id": "4FT4MH4ZBEzA",
        "outputId": "106d2c4e-654f-4c3d-b7ac-20615e26ee46"
      },
      "source": [
        "def grafik_snr():\r\n",
        "  plt.figure()\r\n",
        "  plt.plot(d,SNR,'m')\r\n",
        "  plt.title('Perbandingan Jarak dengan SNR')\r\n",
        "  plt.xlabel('Jarak (Km)')\r\n",
        "  plt.ylabel('SNR (dB)')\r\n",
        "  plt.show()\r\n",
        "\r\n",
        "def grafik_Q():\r\n",
        "  plt.figure()\r\n",
        "  plt.plot(d,Q,'c')\r\n",
        "  plt.title('Perbandingan Jarak dengan Q')\r\n",
        "  plt.xlabel('Jarak (Km)')\r\n",
        "  plt.ylabel('Q')\r\n",
        "  plt.show()\r\n",
        "\r\n",
        "def grafik_BER():\r\n",
        "  plt.figure()\r\n",
        "  plt.plot(d,B,'r')\r\n",
        "  plt.title('Perbandingan Jarak dengan BER')\r\n",
        "  plt.xlabel('Jarak (Km)')\r\n",
        "  plt.ylabel('BER')\r\n",
        "  plt.show()\r\n",
        "\r\n",
        "def grafik_BER_SNR():\r\n",
        "  plt.figure()\r\n",
        "  plt.plot(SNR,B,'g')\r\n",
        "  plt.title('Perbandingan SNR dengan BER')\r\n",
        "  plt.xlabel('SNR(db)')\r\n",
        "  plt.ylabel('BER')\r\n",
        "  plt.show()\r\n",
        "\r\n",
        "grafik_snr()\r\n",
        "grafik_Q()\r\n",
        "grafik_BER()\r\n",
        "grafik_BER_SNR()"
      ],
      "execution_count": 38,
      "outputs": [
        {
          "output_type": "display_data",
          "data": {
            "image/png": "[encoded data removed]",
            "text/plain": [
              "<Figure size 432x288 with 1 Axes>"
            ]
          },
          "metadata": {
            "tags": [],
            "needs_background": "light"
          }
        },
        {
          "output_type": "display_data",
          "data": {
            "image/png": "[encoded data removed]",
            "text/plain": [
              "<Figure size 432x288 with 1 Axes>"
            ]
          },
          "metadata": {
            "tags": [],
            "needs_background": "light"
          }
        },
        {
          "output_type": "display_data",
          "data": {
            "image/png": "[encoded data removed]",
            "text/plain": [
              "<Figure size 432x288 with 1 Axes>"
            ]
          },
          "metadata": {
            "tags": [],
            "needs_background": "light"
          }
        },
        {
          "output_type": "display_data",
          "data": {
            "image/png": "[encoded data removed]",
            "text/plain": [
              "<Figure size 432x288 with 1 Axes>"
            ]
          },
          "metadata": {
            "tags": [],
            "needs_background": "light"
          }
        }
      ]
    }
  ]
}